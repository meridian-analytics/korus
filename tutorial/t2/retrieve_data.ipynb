{
 "cells": [
  {
   "cell_type": "markdown",
   "id": "b6498e38",
   "metadata": {},
   "source": [
    "# Retrieving data from the database\n",
    "\n",
    "In this tutorial, we show how to retrieve data from a (rather minimal) Korus example database. Jump to the next tutorial (#3), to see how the database was created and populated with data."
   ]
  },
  {
   "cell_type": "markdown",
   "id": "d6d01827",
   "metadata": {},
   "source": [
    "## Table of contents\n",
    "* [Connecting to the database](#connecting-to-the-database)\n",
    "* [Viewing annotation taxonomies](#viewing-annotation-taxonomies)\n",
    "* [Retrieving annotations](#retrieving-annotations)\n",
    "* [Retrieving annotations in Ketos format](#retrieving-annotations-in-ketos-format)\n",
    "* [Filtering on tags](#filtering-on-tags)\n",
    "* [Ending the session](#ending-the-session)"
   ]
  },
  {
   "cell_type": "markdown",
   "id": "6490fd66",
   "metadata": {},
   "source": [
    "## Connecting to the database <a class=\"anchor\" id=\"connecting-to-the-database\"></a>"
   ]
  },
  {
   "cell_type": "markdown",
   "id": "9572047b",
   "metadata": {},
   "source": [
    "We begin by importing the necessary modules and opening a connection to the example database,"
   ]
  },
  {
   "cell_type": "code",
   "execution_count": 1,
   "id": "2f0f76a4",
   "metadata": {},
   "outputs": [
    {
     "ename": "ModuleNotFoundError",
     "evalue": "No module named 'korus'",
     "output_type": "error",
     "traceback": [
      "\u001b[0;31m---------------------------------------------------------------------------\u001b[0m",
      "\u001b[0;31mModuleNotFoundError\u001b[0m                       Traceback (most recent call last)",
      "\u001b[0;32m/tmp/ipykernel_342514/3078030397.py\u001b[0m in \u001b[0;36m<module>\u001b[0;34m\u001b[0m\n\u001b[1;32m      1\u001b[0m \u001b[0;32mimport\u001b[0m \u001b[0msqlite3\u001b[0m\u001b[0;34m\u001b[0m\u001b[0;34m\u001b[0m\u001b[0m\n\u001b[0;32m----> 2\u001b[0;31m \u001b[0;32mimport\u001b[0m \u001b[0mkorus\u001b[0m\u001b[0;34m.\u001b[0m\u001b[0mdb\u001b[0m \u001b[0;32mas\u001b[0m \u001b[0mkdb\u001b[0m\u001b[0;34m\u001b[0m\u001b[0;34m\u001b[0m\u001b[0m\n\u001b[0m\u001b[1;32m      3\u001b[0m \u001b[0;34m\u001b[0m\u001b[0m\n\u001b[1;32m      4\u001b[0m \u001b[0mconn\u001b[0m \u001b[0;34m=\u001b[0m \u001b[0msqlite3\u001b[0m\u001b[0;34m.\u001b[0m\u001b[0mconnect\u001b[0m\u001b[0;34m(\u001b[0m\u001b[0;34m\"db_t3.sqlite\"\u001b[0m\u001b[0;34m)\u001b[0m\u001b[0;34m\u001b[0m\u001b[0;34m\u001b[0m\u001b[0m\n",
      "\u001b[0;31mModuleNotFoundError\u001b[0m: No module named 'korus'"
     ]
    }
   ],
   "source": [
    "import sqlite3\n",
    "import korus.db as kdb\n",
    "\n",
    "conn = sqlite3.connect(\"db_t3.sqlite\")"
   ]
  },
  {
   "cell_type": "markdown",
   "id": "7f4112be",
   "metadata": {},
   "source": [
    "## Viewing annotation taxonomies <a class=\"anchor\" id=\"viewing-annotation-taxonomies\"></a>"
   ]
  },
  {
   "cell_type": "markdown",
   "id": "32e85f8a",
   "metadata": {},
   "source": [
    "As you may recall from Tutorial 1, the taxonomy used by the acoustic analyst for labelling sound sources and sound types, is saved to the Korus database. The taxonomy can be readily retrieved using the `get_taxonomy` function,"
   ]
  },
  {
   "cell_type": "code",
   "execution_count": 2,
   "id": "bd3b7ab1",
   "metadata": {},
   "outputs": [],
   "source": [
    "tax = kdb.get_taxonomy(conn) "
   ]
  },
  {
   "cell_type": "markdown",
   "id": "50a9f197",
   "metadata": {},
   "source": [
    "The `get_taxonomy` function returns an instance of the `AcousticTaxonomy` class,"
   ]
  },
  {
   "cell_type": "code",
   "execution_count": 3,
   "id": "c47dd892",
   "metadata": {},
   "outputs": [
    {
     "data": {
      "text/plain": [
       "korus.tax.AcousticTaxonomy"
      ]
     },
     "execution_count": 3,
     "metadata": {},
     "output_type": "execute_result"
    }
   ],
   "source": [
    "type(tax)"
   ]
  },
  {
   "cell_type": "markdown",
   "id": "4db58083",
   "metadata": {},
   "source": [
    "The `show` method helps us visualize the node structure of the taxonomy,"
   ]
  },
  {
   "cell_type": "code",
   "execution_count": 4,
   "id": "d5a9181e",
   "metadata": {},
   "outputs": [
    {
     "name": "stdout",
     "output_type": "stream",
     "text": [
      "Unknown\n",
      "├── Anthro [Anthropogenic]\n",
      "│   └── Boat\n",
      "│       ├── Engine\n",
      "│       └── Prop [Propeller]\n",
      "└── Bio [Biological]\n",
      "    └── Whale\n",
      "        ├── HW [Humpback whale]\n",
      "        └── NARW [North Atlantic right whale]\n",
      "\n"
     ]
    }
   ],
   "source": [
    "tax.show(append_name=True)  #sound-source tree"
   ]
  },
  {
   "cell_type": "markdown",
   "id": "b84cb9fe",
   "metadata": {},
   "source": [
    "## Retrieving annotations <a class=\"anchor\" id=\"retrieving-annotations\"></a>"
   ]
  },
  {
   "cell_type": "markdown",
   "id": "28bb0d70",
   "metadata": {},
   "source": [
    "Korus contains the function `filter_annotation` to retrieve annotations based on various search criteria. For example, we can use the `filter_annotation` function to retrieve annotations with a specific (sound-source, sound-type) label,"
   ]
  },
  {
   "cell_type": "code",
   "execution_count": 5,
   "id": "33cb61b9",
   "metadata": {
    "scrolled": true
   },
   "outputs": [
    {
     "name": "stdout",
     "output_type": "stream",
     "text": [
      "[1, 2, 3, 4, 5, 6, 7, 8, 9, 10, 11, 12, 13, 14, 15, 16, 17, 18, 19, 20, 21, 22, 23, 24, 25, 26]\n"
     ]
    }
   ],
   "source": [
    "indices = kdb.filter_annotation(conn, source_type=(\"NARW\",\"Upcall\"))\n",
    "\n",
    "print(indices)"
   ]
  },
  {
   "cell_type": "markdown",
   "id": "6806bfcc",
   "metadata": {},
   "source": [
    "Note that the `filter_annotation` function merely returns the indices of the annotations that match our search criteria. We can use the `get_annotations` function to obtain the data associated with these annotations as a Pandas DataFrame,"
   ]
  },
  {
   "cell_type": "code",
   "execution_count": 6,
   "id": "65b651b3",
   "metadata": {},
   "outputs": [
    {
     "name": "stdout",
     "output_type": "stream",
     "text": [
      "    job_id  deployment_id  file_id sound_source sound_type  \\\n",
      "0        1              2        2         NARW         LU   \n",
      "1        1              2        2         NARW         LU   \n",
      "2        1              2        2         NARW         LU   \n",
      "3        1              2        2         NARW         LU   \n",
      "4        1              2        2         NARW         LU   \n",
      "5        1              2        2         NARW         LU   \n",
      "6        1              2        2         NARW         LU   \n",
      "7        1              2        2         NARW         LU   \n",
      "8        1              2        2         NARW         LU   \n",
      "9        1              2        2         NARW         LU   \n",
      "10       1              2        2         NARW         LU   \n",
      "11       1              2        2         NARW         LU   \n",
      "12       1              2        2         NARW         LU   \n",
      "13       1              2        3         NARW         LU   \n",
      "14       1              2        3         NARW         LU   \n",
      "15       1              2        3         NARW         LU   \n",
      "16       1              2        3         NARW         LU   \n",
      "17       1              2        4         NARW         LU   \n",
      "18       1              2        4         NARW         LU   \n",
      "19       1              2        4         NARW         LU   \n",
      "20       1              2        4         NARW         LU   \n",
      "21       1              2        4         NARW         LU   \n",
      "22       1              2        4         NARW         LU   \n",
      "23       1              2        4         NARW         LU   \n",
      "24       1              2        4         NARW         LU   \n",
      "25       1              2        4         NARW         LU   \n",
      "\n",
      "   tentative_sound_source tentative_sound_type               start_utc  \\\n",
      "0                    None                 None 2013-06-23 08:18:47.456   \n",
      "1                    None                 None 2013-06-23 08:19:12.142   \n",
      "2                    None                 None 2013-06-23 08:19:55.394   \n",
      "3                    None                 None 2013-06-23 08:20:26.258   \n",
      "4                    None                 None 2013-06-23 08:22:36.797   \n",
      "5                    None                 None 2013-06-23 08:23:56.098   \n",
      "6                    None                 None 2013-06-23 08:24:47.904   \n",
      "7                    None                 None 2013-06-23 08:25:10.286   \n",
      "8                    None                 None 2013-06-23 08:25:29.211   \n",
      "9                    None                 None 2013-06-23 08:25:35.196   \n",
      "10                   None                 None 2013-06-23 08:28:32.988   \n",
      "11                   None                 None 2013-06-23 08:29:26.867   \n",
      "12                   None                 None 2013-06-23 08:29:36.451   \n",
      "13                   None                 None 2013-06-23 08:31:06.766   \n",
      "14                   None                 None 2013-06-23 08:41:27.124   \n",
      "15                   None                 None 2013-06-23 08:42:34.557   \n",
      "16                   None                 None 2013-06-23 08:42:49.057   \n",
      "17                   None                 None 2013-06-24 08:01:07.471   \n",
      "18                   None                 None 2013-06-24 08:01:44.545   \n",
      "19                   None                 None 2013-06-24 08:17:35.633   \n",
      "20                   None                 None 2013-06-24 08:17:45.900   \n",
      "21                   None                 None 2013-06-24 08:21:29.181   \n",
      "22                   None                 None 2013-06-24 08:22:57.573   \n",
      "23                   None                 None 2013-06-24 08:23:47.266   \n",
      "24                   None                 None 2013-06-24 08:27:42.240   \n",
      "25                   None                 None 2013-06-24 08:27:55.300   \n",
      "\n",
      "    duration_ms  start_ms  freq_min_hz  freq_max_hz  channel granularity  \\\n",
      "0          3000   1127340            0          500        0      window   \n",
      "1          3000   1152026            0          500        0      window   \n",
      "2          3000   1195278            0          500        0      window   \n",
      "3          3000   1226142            0          500        0      window   \n",
      "4          3000   1356681            0          500        0      window   \n",
      "5          3000   1435982            0          500        0      window   \n",
      "6          3000   1487788            0          500        0      window   \n",
      "7          3000   1510170            0          500        0      window   \n",
      "8          3000   1529095            0          500        0      window   \n",
      "9          3000   1535080            0          500        0      window   \n",
      "10         3000   1712872            0          500        0      window   \n",
      "11         3000   1766751            0          500        0      window   \n",
      "12         3000   1776335            0          500        0      window   \n",
      "13         3000     66649            0          500        0      window   \n",
      "14         3000    687007            0          500        0      window   \n",
      "15         3000    754440            0          500        0      window   \n",
      "16         3000    768940            0          500        0      window   \n",
      "17         3000     67353            0          500        0      window   \n",
      "18         3000    104427            0          500        0      window   \n",
      "19         3000   1055515            0          500        0      window   \n",
      "20         3000   1065782            0          500        0      window   \n",
      "21         3000   1289063            0          500        0      window   \n",
      "22         3000   1377455            0          500        0      window   \n",
      "23         3000   1427148            0          500        0      window   \n",
      "24         3000   1662122            0          500        0      window   \n",
      "25         3000   1675182            0          500        0      window   \n",
      "\n",
      "   machine_prediction comments   tag  \n",
      "0                None     None  None  \n",
      "1                None     None  None  \n",
      "2                None     None  None  \n",
      "3                None     None  None  \n",
      "4                None     None  None  \n",
      "5                None     None  None  \n",
      "6                None     None  None  \n",
      "7                None     None  None  \n",
      "8                None     None  None  \n",
      "9                None     None  None  \n",
      "10               None     None  None  \n",
      "11               None     None  None  \n",
      "12               None     None  None  \n",
      "13               None     None  None  \n",
      "14               None     None  None  \n",
      "15               None     None  None  \n",
      "16               None     None  None  \n",
      "17               None     None  None  \n",
      "18               None     None  None  \n",
      "19               None     None  None  \n",
      "20               None     None  None  \n",
      "21               None     None  None  \n",
      "22               None     None  None  \n",
      "23               None     None  None  \n",
      "24               None     None  None  \n",
      "25               None     None  None  \n"
     ]
    }
   ],
   "source": [
    "df = kdb.get_annotations(conn, indices)\n",
    "\n",
    "print(df)"
   ]
  },
  {
   "cell_type": "markdown",
   "id": "2acb7fca",
   "metadata": {},
   "source": [
    "Note that although we filtered on the sound type 'Upcall', as defined in 2nd version of the taxonomy, the `filter_annotation` function still helped us find all the annotations that had the \"old\" sound-type label, 'LU', used in the 1st version of the taxonomy as a label for 'loud' upcalls."
   ]
  },
  {
   "cell_type": "markdown",
   "id": "56437460",
   "metadata": {},
   "source": [
    "## Retrieving annotations in Ketos format <a class=\"anchor\" id=\"retrieving-annotations-in-ketos-format\"></a>"
   ]
  },
  {
   "cell_type": "markdown",
   "id": "7330858b",
   "metadata": {},
   "source": [
    "We could also have specified that we wanted the table formatted to be compatible with format used in [Ketos](https://docs.meridian.cs.dal.ca/ketos/),"
   ]
  },
  {
   "cell_type": "code",
   "execution_count": 7,
   "id": "f4262a37",
   "metadata": {},
   "outputs": [],
   "source": [
    "df_kt = kdb.get_annotations(conn, indices, format=\"ketos\", label=0)"
   ]
  },
  {
   "cell_type": "markdown",
   "id": "64a1f54e",
   "metadata": {},
   "source": [
    "Let's take a look at the annotation table,"
   ]
  },
  {
   "cell_type": "code",
   "execution_count": 9,
   "id": "d719e88a",
   "metadata": {},
   "outputs": [
    {
     "name": "stdout",
     "output_type": "stream",
     "text": [
      "                           filename relative_path     start  duration  \\\n",
      "0   audio_20130623T080000.116Z.flac      20130623  1127.340       3.0   \n",
      "1   audio_20130623T080000.116Z.flac      20130623  1152.026       3.0   \n",
      "2   audio_20130623T080000.116Z.flac      20130623  1195.278       3.0   \n",
      "3   audio_20130623T080000.116Z.flac      20130623  1226.142       3.0   \n",
      "4   audio_20130623T080000.116Z.flac      20130623  1356.681       3.0   \n",
      "5   audio_20130623T080000.116Z.flac      20130623  1435.982       3.0   \n",
      "6   audio_20130623T080000.116Z.flac      20130623  1487.788       3.0   \n",
      "7   audio_20130623T080000.116Z.flac      20130623  1510.170       3.0   \n",
      "8   audio_20130623T080000.116Z.flac      20130623  1529.095       3.0   \n",
      "9   audio_20130623T080000.116Z.flac      20130623  1535.080       3.0   \n",
      "10  audio_20130623T080000.116Z.flac      20130623  1712.872       3.0   \n",
      "11  audio_20130623T080000.116Z.flac      20130623  1766.751       3.0   \n",
      "12  audio_20130623T080000.116Z.flac      20130623  1776.335       3.0   \n",
      "13  audio_20130623T083000.117Z.flac      20130623    66.649       3.0   \n",
      "14  audio_20130623T083000.117Z.flac      20130623   687.007       3.0   \n",
      "15  audio_20130623T083000.117Z.flac      20130623   754.440       3.0   \n",
      "16  audio_20130623T083000.117Z.flac      20130623   768.940       3.0   \n",
      "17  audio_20130624T080000.118Z.flac      20130624    67.353       3.0   \n",
      "18  audio_20130624T080000.118Z.flac      20130624   104.427       3.0   \n",
      "19  audio_20130624T080000.118Z.flac      20130624  1055.515       3.0   \n",
      "20  audio_20130624T080000.118Z.flac      20130624  1065.782       3.0   \n",
      "21  audio_20130624T080000.118Z.flac      20130624  1289.063       3.0   \n",
      "22  audio_20130624T080000.118Z.flac      20130624  1377.455       3.0   \n",
      "23  audio_20130624T080000.118Z.flac      20130624  1427.148       3.0   \n",
      "24  audio_20130624T080000.118Z.flac      20130624  1662.122       3.0   \n",
      "25  audio_20130624T080000.118Z.flac      20130624  1675.182       3.0   \n",
      "\n",
      "    freq_min  freq_max  label comments  \n",
      "0          0       500      0     None  \n",
      "1          0       500      0     None  \n",
      "2          0       500      0     None  \n",
      "3          0       500      0     None  \n",
      "4          0       500      0     None  \n",
      "5          0       500      0     None  \n",
      "6          0       500      0     None  \n",
      "7          0       500      0     None  \n",
      "8          0       500      0     None  \n",
      "9          0       500      0     None  \n",
      "10         0       500      0     None  \n",
      "11         0       500      0     None  \n",
      "12         0       500      0     None  \n",
      "13         0       500      0     None  \n",
      "14         0       500      0     None  \n",
      "15         0       500      0     None  \n",
      "16         0       500      0     None  \n",
      "17         0       500      0     None  \n",
      "18         0       500      0     None  \n",
      "19         0       500      0     None  \n",
      "20         0       500      0     None  \n",
      "21         0       500      0     None  \n",
      "22         0       500      0     None  \n",
      "23         0       500      0     None  \n",
      "24         0       500      0     None  \n",
      "25         0       500      0     None  \n"
     ]
    }
   ],
   "source": [
    "print(df_kt)"
   ]
  },
  {
   "cell_type": "markdown",
   "id": "af3b9727",
   "metadata": {},
   "source": [
    "## Filtering on tags <a class=\"anchor\" id=\"filtering-on-tags\"></a>"
   ]
  },
  {
   "cell_type": "markdown",
   "id": "5a86f250",
   "metadata": {},
   "source": [
    "In addition to filtering on the standardized (sound-source, sound-type) labels, which can also filter on the free-text tags. For example,"
   ]
  },
  {
   "cell_type": "code",
   "execution_count": 10,
   "id": "6b067815",
   "metadata": {},
   "outputs": [
    {
     "name": "stdout",
     "output_type": "stream",
     "text": [
      "[27, 28, 29, 30, 31, 32, 33, 34, 35, 36, 37, 38, 39, 40, 41, 42, 43, 44, 45, 46, 47, 48, 49, 50, 51, 52, 53, 54]\n"
     ]
    }
   ],
   "source": [
    "indices = kdb.filter_annotation(conn, tag=\"__AUTO_NEGATIVE__\")\n",
    "\n",
    "print(indices)"
   ]
  },
  {
   "cell_type": "markdown",
   "id": "bc432f45",
   "metadata": {},
   "source": [
    "As above, we may use the `get_annotations` function to retrieve the data associated with the annotations."
   ]
  },
  {
   "cell_type": "code",
   "execution_count": 11,
   "id": "25d737d9",
   "metadata": {},
   "outputs": [
    {
     "name": "stdout",
     "output_type": "stream",
     "text": [
      "{0: '__AUTO_NEGATIVE__'}\n",
      "                           filename relative_path     start  duration  \\\n",
      "0   audio_20130623T080000.116Z.flac      20130623     0.000  1127.340   \n",
      "1   audio_20130623T080000.116Z.flac      20130623  1130.340    21.686   \n",
      "2   audio_20130623T080000.116Z.flac      20130623  1155.026    40.252   \n",
      "3   audio_20130623T080000.116Z.flac      20130623  1198.278    27.864   \n",
      "4   audio_20130623T080000.116Z.flac      20130623  1229.142   127.539   \n",
      "5   audio_20130623T080000.116Z.flac      20130623  1359.681    76.301   \n",
      "6   audio_20130623T080000.116Z.flac      20130623  1438.982    48.806   \n",
      "7   audio_20130623T080000.116Z.flac      20130623  1490.788    19.382   \n",
      "8   audio_20130623T080000.116Z.flac      20130623  1513.170    15.925   \n",
      "9   audio_20130623T080000.116Z.flac      20130623  1532.095     2.985   \n",
      "10  audio_20130623T080000.116Z.flac      20130623  1538.080   174.792   \n",
      "11  audio_20130623T080000.116Z.flac      20130623  1715.872    50.879   \n",
      "12  audio_20130623T080000.116Z.flac      20130623  1769.751     6.584   \n",
      "13  audio_20130623T080000.116Z.flac      20130623  1779.335    87.315   \n",
      "14  audio_20130623T083000.117Z.flac      20130623    69.649   617.358   \n",
      "15  audio_20130623T083000.117Z.flac      20130623   690.007    64.433   \n",
      "16  audio_20130623T083000.117Z.flac      20130623   757.440    11.500   \n",
      "17  audio_20130623T083000.117Z.flac      20130623   771.940  1028.115   \n",
      "18  audio_20130624T080000.118Z.flac      20130624     0.000    67.353   \n",
      "19  audio_20130624T080000.118Z.flac      20130624    70.353    34.074   \n",
      "20  audio_20130624T080000.118Z.flac      20130624   107.427   948.088   \n",
      "21  audio_20130624T080000.118Z.flac      20130624  1058.515     7.267   \n",
      "22  audio_20130624T080000.118Z.flac      20130624  1068.782   220.281   \n",
      "23  audio_20130624T080000.118Z.flac      20130624  1292.063    85.392   \n",
      "24  audio_20130624T080000.118Z.flac      20130624  1380.455    46.693   \n",
      "25  audio_20130624T080000.118Z.flac      20130624  1430.148   231.974   \n",
      "26  audio_20130624T080000.118Z.flac      20130624  1665.122    10.060   \n",
      "27  audio_20130624T080000.118Z.flac      20130624  1678.182   121.873   \n",
      "\n",
      "    freq_min  freq_max  label comments  \n",
      "0          0       500      0     None  \n",
      "1          0       500      0     None  \n",
      "2          0       500      0     None  \n",
      "3          0       500      0     None  \n",
      "4          0       500      0     None  \n",
      "5          0       500      0     None  \n",
      "6          0       500      0     None  \n",
      "7          0       500      0     None  \n",
      "8          0       500      0     None  \n",
      "9          0       500      0     None  \n",
      "10         0       500      0     None  \n",
      "11         0       500      0     None  \n",
      "12         0       500      0     None  \n",
      "13         0       500      0     None  \n",
      "14         0       500      0     None  \n",
      "15         0       500      0     None  \n",
      "16         0       500      0     None  \n",
      "17         0       500      0     None  \n",
      "18         0       500      0     None  \n",
      "19         0       500      0     None  \n",
      "20         0       500      0     None  \n",
      "21         0       500      0     None  \n",
      "22         0       500      0     None  \n",
      "23         0       500      0     None  \n",
      "24         0       500      0     None  \n",
      "25         0       500      0     None  \n",
      "26         0       500      0     None  \n",
      "27         0       500      0     None  \n"
     ]
    }
   ],
   "source": [
    "df_kt = kdb.get_annotations(conn, indices, format=\"ketos\", label=1)\n",
    "\n",
    "print(df_kt)"
   ]
  },
  {
   "cell_type": "markdown",
   "id": "f21cccf1",
   "metadata": {},
   "source": [
    "## Ending the session <a class=\"anchor\" id=\"ending-the-session\"></a>"
   ]
  },
  {
   "cell_type": "markdown",
   "id": "de1a9a8d",
   "metadata": {},
   "source": [
    "As the last step of the tutorial, we close the connection to the database."
   ]
  },
  {
   "cell_type": "code",
   "execution_count": 12,
   "id": "ecd29bf1",
   "metadata": {},
   "outputs": [],
   "source": [
    "conn.close()"
   ]
  }
 ],
 "metadata": {
  "kernelspec": {
   "display_name": "Python 3 (ipykernel)",
   "language": "python",
   "name": "python3"
  },
  "language_info": {
   "codemirror_mode": {
    "name": "ipython",
    "version": 3
   },
   "file_extension": ".py",
   "mimetype": "text/x-python",
   "name": "python",
   "nbconvert_exporter": "python",
   "pygments_lexer": "ipython3",
   "version": "3.10.12"
  }
 },
 "nbformat": 4,
 "nbformat_minor": 5
}
